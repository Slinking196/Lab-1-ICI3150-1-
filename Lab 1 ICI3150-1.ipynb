{
  "nbformat": 4,
  "nbformat_minor": 0,
  "metadata": {
    "colab": {
      "provenance": [],
      "include_colab_link": true
    },
    "kernelspec": {
      "name": "python3",
      "display_name": "Python 3"
    },
    "language_info": {
      "name": "python"
    }
  },
  "cells": [
    {
      "cell_type": "markdown",
      "metadata": {
        "id": "view-in-github",
        "colab_type": "text"
      },
      "source": [
        "<a href=\"https://colab.research.google.com/github/Slinking196/Lab-1-ICI3150-1-/blob/main/Lab%201%20ICI3150-1.ipynb\" target=\"_parent\"><img src=\"https://colab.research.google.com/assets/colab-badge.svg\" alt=\"Open In Colab\"/></a>"
      ]
    },
    {
      "cell_type": "code",
      "execution_count": null,
      "metadata": {
        "id": "RClgA-3gxHbX"
      },
      "outputs": [],
      "source": [
        "import pandas as pd\n",
        "import numpy as np\n",
        "from plotnine import *"
      ]
    },
    {
      "cell_type": "markdown",
      "source": [
        "## **Ejecutar solo si no tienen la data concatenada**"
      ],
      "metadata": {
        "id": "DXClQbIiNmvK"
      }
    },
    {
      "cell_type": "code",
      "source": [
        "#Cargando datos actuales de defunciones\n",
        "dataActual = pd.read_csv('DEFUNCIONES_FUENTE_DEIS_2021_2023_24082023.csv', delimiter=\";\",on_bad_lines='skip', encoding='latin-1', header = None)"
      ],
      "metadata": {
        "id": "xmWX1eSA_I-1"
      },
      "execution_count": null,
      "outputs": []
    },
    {
      "cell_type": "code",
      "source": [
        "#Cargando datos antiguos de defunciones\n",
        "dataAntigua = pd.read_csv (\"DEFUNCIONES_FUENTE_DEIS_1990_2020_CIFRAS_OFICIALES.csv\", delimiter=\";\",on_bad_lines='skip', header = None)\n",
        "\n",
        "# Observación: *Ambos DataFrames tienden a demorarse por la cantidad de datos*"
      ],
      "metadata": {
        "id": "UZs9gSZK_J2e"
      },
      "execution_count": null,
      "outputs": []
    },
    {
      "cell_type": "code",
      "source": [
        "#Concatenando DataFrames en uno solo\n",
        "data = pd.concat([dataActual, dataAntigua], ignore_index=True)\n",
        "data"
      ],
      "metadata": {
        "id": "hXko5NDb_M11"
      },
      "execution_count": null,
      "outputs": []
    },
    {
      "cell_type": "code",
      "source": [
        "#Eliminando registros anteriores al año 2000\n",
        "data.drop(data[(data.iloc[:, 0] < 2000)].index, inplace=True)\n",
        "data"
      ],
      "metadata": {
        "id": "vuJCcuU3_RhE"
      },
      "execution_count": null,
      "outputs": []
    },
    {
      "cell_type": "code",
      "source": [
        "#Eliminando COLUMNAS con datos nulos\n",
        "data.dropna(axis=1, inplace=True)\n",
        "data"
      ],
      "metadata": {
        "id": "i1f8Cmnj_U14"
      },
      "execution_count": null,
      "outputs": []
    },
    {
      "cell_type": "code",
      "source": [
        "#Nombrando los encabezados. [Ver Diccionario de datos para comprenderlos]\n",
        "data.columns = ['Año','Sexo','Tipo edad','Edad','Cod_comuna','Comuna','Región','Cod_Causa_Simple','Cod_RangoCausa1','Diagnóstico_1','Cod_RangoCausa2','Diagnóstico_2','Cod_RangoCausa3','Diagnóstico_3','Cod_Causa_Simple2','Diagnóstico_Simple','Lugar defunción']\n",
        "data"
      ],
      "metadata": {
        "id": "nX4RJwid_YG6"
      },
      "execution_count": null,
      "outputs": []
    },
    {
      "cell_type": "code",
      "source": [
        "#En vista de que se borrará la columna Tipo edad, se formatearán edades en meses, días u horas a <<0 años>>\n",
        "data.loc[data['Tipo edad'] >= 2, 'Edad'] = 0\n",
        "data"
      ],
      "metadata": {
        "id": "NMggNArV_arX"
      },
      "execution_count": null,
      "outputs": []
    },
    {
      "cell_type": "code",
      "source": [
        "#Visualización de tales registros\n",
        "data[(data[\"Tipo edad\"] >= 2)]"
      ],
      "metadata": {
        "id": "Vl-mJ6aU_fRA"
      },
      "execution_count": null,
      "outputs": []
    },
    {
      "cell_type": "code",
      "source": [
        "#Dejar solo las columnas significativas para el estudio\n",
        "data.drop(['Tipo edad','Cod_RangoCausa1','Diagnóstico_1','Cod_RangoCausa2','Diagnóstico_2','Cod_RangoCausa3','Diagnóstico_3','Cod_Causa_Simple2'], axis = 1, inplace=True)\n",
        "data"
      ],
      "metadata": {
        "id": "A2SPe90C_h6M"
      },
      "execution_count": null,
      "outputs": []
    },
    {
      "cell_type": "code",
      "source": [
        "#Se ordenan los datos por del registro y se resetea el indice del DataFrame\n",
        "data.sort_values('Año', inplace = True)\n",
        "data.reset_index(drop = True, inplace=True)\n",
        "data"
      ],
      "metadata": {
        "id": "Yat1LxdF_lsh"
      },
      "execution_count": null,
      "outputs": []
    },
    {
      "cell_type": "code",
      "source": [
        "#Se exporta el DataFrame\n",
        "pd.DataFrame.to_csv(data,\"Defunciones_2000_2023.csv\",index=False)"
      ],
      "metadata": {
        "id": "t7xbssoaOJ1u"
      },
      "execution_count": null,
      "outputs": []
    },
    {
      "cell_type": "markdown",
      "source": [
        "# **Análisis exploratorio de datos**"
      ],
      "metadata": {
        "id": "4aOFiJXdN9nY"
      }
    },
    {
      "cell_type": "markdown",
      "source": [
        "Código: I694 Secuelas enfermedades cerebrovascular"
      ],
      "metadata": {
        "id": "d7OYA5SgsqE6"
      }
    },
    {
      "cell_type": "code",
      "source": [
        "#Se importa la data anteriormente creada\n",
        "data = pd.read_csv('Defunciones_2000_2023.csv',on_bad_lines='skip')"
      ],
      "metadata": {
        "id": "wOwyLCAsU6jL"
      },
      "execution_count": null,
      "outputs": []
    },
    {
      "cell_type": "code",
      "source": [
        "data = data[(data.Cod_Causa_Simple == 'I694')]\n",
        "data.reset_index(inplace=True, drop=True)\n",
        "data"
      ],
      "metadata": {
        "colab": {
          "base_uri": "https://localhost:8080/",
          "height": 614
        },
        "id": "aOIK_s05WAme",
        "outputId": "1de4d699-f05e-48a9-b3e7-54bdfc8931b0"
      },
      "execution_count": null,
      "outputs": [
        {
          "output_type": "execute_result",
          "data": {
            "text/plain": [
              "        Año    Sexo  Edad  Cod_comuna         Comuna  \\\n",
              "0      2000  Hombre    72        9109       Loncoche   \n",
              "1      2000  Hombre    74        8206     Los Álamos   \n",
              "2      2000  Hombre    70        5402        Cabildo   \n",
              "3      2000   Mujer    82       13108  Independencia   \n",
              "4      2000  Hombre    70        5109   Viña del Mar   \n",
              "...     ...     ...   ...         ...            ...   \n",
              "38621  2023  Hombre    64       13120          Ñuñoa   \n",
              "38622  2023   Mujer    67       13119          Maipú   \n",
              "38623  2023  Hombre    66        1101        Iquique   \n",
              "38624  2023   Mujer    67       13125      Quilicura   \n",
              "38625  2023  Hombre    70        8105        Hualqui   \n",
              "\n",
              "                          Región Cod_Causa_Simple  \\\n",
              "0                De La Araucanía             I694   \n",
              "1                     Del Bíobío             I694   \n",
              "2                  De Valparaíso             I694   \n",
              "3      Metropolitana de Santiago             I694   \n",
              "4                  De Valparaíso             I694   \n",
              "...                          ...              ...   \n",
              "38621  Metropolitana de Santiago             I694   \n",
              "38622  Metropolitana de Santiago             I694   \n",
              "38623                De Tarapacá             I694   \n",
              "38624  Metropolitana de Santiago             I694   \n",
              "38625                 Del Bíobío             I694   \n",
              "\n",
              "                                      Diagnóstico_Simple     Lugar defunción  \n",
              "0      SECUELAS DE ENFERMEDAD CEREBROVASCULAR NO ESPE...     Casa habitación  \n",
              "1      SECUELAS DE ENFERMEDAD CEREBROVASCULAR NO ESPE...     Casa habitación  \n",
              "2      SECUELAS DE ENFERMEDAD CEREBROVASCULAR NO ESPE...     Casa habitación  \n",
              "3      SECUELAS DE ENFERMEDAD CEREBROVASCULAR NO ESPE...     Casa habitación  \n",
              "4      SECUELAS DE ENFERMEDAD CEREBROVASCULAR NO ESPE...     Casa habitación  \n",
              "...                                                  ...                 ...  \n",
              "38621  SECUELAS DE ENFERMEDAD CEREBROVASCULAR NO ESPE...     Casa habitación  \n",
              "38622  SECUELAS DE ENFERMEDAD CEREBROVASCULAR NO ESPE...     Casa habitación  \n",
              "38623  SECUELAS DE ENFERMEDAD CEREBROVASCULAR NO ESPE...  Hospital o Clínica  \n",
              "38624  SECUELAS DE ENFERMEDAD CEREBROVASCULAR NO ESPE...  Hospital o Clínica  \n",
              "38625  SECUELAS DE ENFERMEDAD CEREBROVASCULAR NO ESPE...     Casa habitación  \n",
              "\n",
              "[38626 rows x 9 columns]"
            ],
            "text/html": [
              "\n",
              "  <div id=\"df-ba089c4c-19e2-4aba-88c6-52cca3f6e2dd\" class=\"colab-df-container\">\n",
              "    <div>\n",
              "<style scoped>\n",
              "    .dataframe tbody tr th:only-of-type {\n",
              "        vertical-align: middle;\n",
              "    }\n",
              "\n",
              "    .dataframe tbody tr th {\n",
              "        vertical-align: top;\n",
              "    }\n",
              "\n",
              "    .dataframe thead th {\n",
              "        text-align: right;\n",
              "    }\n",
              "</style>\n",
              "<table border=\"1\" class=\"dataframe\">\n",
              "  <thead>\n",
              "    <tr style=\"text-align: right;\">\n",
              "      <th></th>\n",
              "      <th>Año</th>\n",
              "      <th>Sexo</th>\n",
              "      <th>Edad</th>\n",
              "      <th>Cod_comuna</th>\n",
              "      <th>Comuna</th>\n",
              "      <th>Región</th>\n",
              "      <th>Cod_Causa_Simple</th>\n",
              "      <th>Diagnóstico_Simple</th>\n",
              "      <th>Lugar defunción</th>\n",
              "    </tr>\n",
              "  </thead>\n",
              "  <tbody>\n",
              "    <tr>\n",
              "      <th>0</th>\n",
              "      <td>2000</td>\n",
              "      <td>Hombre</td>\n",
              "      <td>72</td>\n",
              "      <td>9109</td>\n",
              "      <td>Loncoche</td>\n",
              "      <td>De La Araucanía</td>\n",
              "      <td>I694</td>\n",
              "      <td>SECUELAS DE ENFERMEDAD CEREBROVASCULAR NO ESPE...</td>\n",
              "      <td>Casa habitación</td>\n",
              "    </tr>\n",
              "    <tr>\n",
              "      <th>1</th>\n",
              "      <td>2000</td>\n",
              "      <td>Hombre</td>\n",
              "      <td>74</td>\n",
              "      <td>8206</td>\n",
              "      <td>Los Álamos</td>\n",
              "      <td>Del Bíobío</td>\n",
              "      <td>I694</td>\n",
              "      <td>SECUELAS DE ENFERMEDAD CEREBROVASCULAR NO ESPE...</td>\n",
              "      <td>Casa habitación</td>\n",
              "    </tr>\n",
              "    <tr>\n",
              "      <th>2</th>\n",
              "      <td>2000</td>\n",
              "      <td>Hombre</td>\n",
              "      <td>70</td>\n",
              "      <td>5402</td>\n",
              "      <td>Cabildo</td>\n",
              "      <td>De Valparaíso</td>\n",
              "      <td>I694</td>\n",
              "      <td>SECUELAS DE ENFERMEDAD CEREBROVASCULAR NO ESPE...</td>\n",
              "      <td>Casa habitación</td>\n",
              "    </tr>\n",
              "    <tr>\n",
              "      <th>3</th>\n",
              "      <td>2000</td>\n",
              "      <td>Mujer</td>\n",
              "      <td>82</td>\n",
              "      <td>13108</td>\n",
              "      <td>Independencia</td>\n",
              "      <td>Metropolitana de Santiago</td>\n",
              "      <td>I694</td>\n",
              "      <td>SECUELAS DE ENFERMEDAD CEREBROVASCULAR NO ESPE...</td>\n",
              "      <td>Casa habitación</td>\n",
              "    </tr>\n",
              "    <tr>\n",
              "      <th>4</th>\n",
              "      <td>2000</td>\n",
              "      <td>Hombre</td>\n",
              "      <td>70</td>\n",
              "      <td>5109</td>\n",
              "      <td>Viña del Mar</td>\n",
              "      <td>De Valparaíso</td>\n",
              "      <td>I694</td>\n",
              "      <td>SECUELAS DE ENFERMEDAD CEREBROVASCULAR NO ESPE...</td>\n",
              "      <td>Casa habitación</td>\n",
              "    </tr>\n",
              "    <tr>\n",
              "      <th>...</th>\n",
              "      <td>...</td>\n",
              "      <td>...</td>\n",
              "      <td>...</td>\n",
              "      <td>...</td>\n",
              "      <td>...</td>\n",
              "      <td>...</td>\n",
              "      <td>...</td>\n",
              "      <td>...</td>\n",
              "      <td>...</td>\n",
              "    </tr>\n",
              "    <tr>\n",
              "      <th>38621</th>\n",
              "      <td>2023</td>\n",
              "      <td>Hombre</td>\n",
              "      <td>64</td>\n",
              "      <td>13120</td>\n",
              "      <td>Ñuñoa</td>\n",
              "      <td>Metropolitana de Santiago</td>\n",
              "      <td>I694</td>\n",
              "      <td>SECUELAS DE ENFERMEDAD CEREBROVASCULAR NO ESPE...</td>\n",
              "      <td>Casa habitación</td>\n",
              "    </tr>\n",
              "    <tr>\n",
              "      <th>38622</th>\n",
              "      <td>2023</td>\n",
              "      <td>Mujer</td>\n",
              "      <td>67</td>\n",
              "      <td>13119</td>\n",
              "      <td>Maipú</td>\n",
              "      <td>Metropolitana de Santiago</td>\n",
              "      <td>I694</td>\n",
              "      <td>SECUELAS DE ENFERMEDAD CEREBROVASCULAR NO ESPE...</td>\n",
              "      <td>Casa habitación</td>\n",
              "    </tr>\n",
              "    <tr>\n",
              "      <th>38623</th>\n",
              "      <td>2023</td>\n",
              "      <td>Hombre</td>\n",
              "      <td>66</td>\n",
              "      <td>1101</td>\n",
              "      <td>Iquique</td>\n",
              "      <td>De Tarapacá</td>\n",
              "      <td>I694</td>\n",
              "      <td>SECUELAS DE ENFERMEDAD CEREBROVASCULAR NO ESPE...</td>\n",
              "      <td>Hospital o Clínica</td>\n",
              "    </tr>\n",
              "    <tr>\n",
              "      <th>38624</th>\n",
              "      <td>2023</td>\n",
              "      <td>Mujer</td>\n",
              "      <td>67</td>\n",
              "      <td>13125</td>\n",
              "      <td>Quilicura</td>\n",
              "      <td>Metropolitana de Santiago</td>\n",
              "      <td>I694</td>\n",
              "      <td>SECUELAS DE ENFERMEDAD CEREBROVASCULAR NO ESPE...</td>\n",
              "      <td>Hospital o Clínica</td>\n",
              "    </tr>\n",
              "    <tr>\n",
              "      <th>38625</th>\n",
              "      <td>2023</td>\n",
              "      <td>Hombre</td>\n",
              "      <td>70</td>\n",
              "      <td>8105</td>\n",
              "      <td>Hualqui</td>\n",
              "      <td>Del Bíobío</td>\n",
              "      <td>I694</td>\n",
              "      <td>SECUELAS DE ENFERMEDAD CEREBROVASCULAR NO ESPE...</td>\n",
              "      <td>Casa habitación</td>\n",
              "    </tr>\n",
              "  </tbody>\n",
              "</table>\n",
              "<p>38626 rows × 9 columns</p>\n",
              "</div>\n",
              "    <div class=\"colab-df-buttons\">\n",
              "\n",
              "  <div class=\"colab-df-container\">\n",
              "    <button class=\"colab-df-convert\" onclick=\"convertToInteractive('df-ba089c4c-19e2-4aba-88c6-52cca3f6e2dd')\"\n",
              "            title=\"Convert this dataframe to an interactive table.\"\n",
              "            style=\"display:none;\">\n",
              "\n",
              "  <svg xmlns=\"http://www.w3.org/2000/svg\" height=\"24px\" viewBox=\"0 -960 960 960\">\n",
              "    <path d=\"M120-120v-720h720v720H120Zm60-500h600v-160H180v160Zm220 220h160v-160H400v160Zm0 220h160v-160H400v160ZM180-400h160v-160H180v160Zm440 0h160v-160H620v160ZM180-180h160v-160H180v160Zm440 0h160v-160H620v160Z\"/>\n",
              "  </svg>\n",
              "    </button>\n",
              "\n",
              "  <style>\n",
              "    .colab-df-container {\n",
              "      display:flex;\n",
              "      gap: 12px;\n",
              "    }\n",
              "\n",
              "    .colab-df-convert {\n",
              "      background-color: #E8F0FE;\n",
              "      border: none;\n",
              "      border-radius: 50%;\n",
              "      cursor: pointer;\n",
              "      display: none;\n",
              "      fill: #1967D2;\n",
              "      height: 32px;\n",
              "      padding: 0 0 0 0;\n",
              "      width: 32px;\n",
              "    }\n",
              "\n",
              "    .colab-df-convert:hover {\n",
              "      background-color: #E2EBFA;\n",
              "      box-shadow: 0px 1px 2px rgba(60, 64, 67, 0.3), 0px 1px 3px 1px rgba(60, 64, 67, 0.15);\n",
              "      fill: #174EA6;\n",
              "    }\n",
              "\n",
              "    .colab-df-buttons div {\n",
              "      margin-bottom: 4px;\n",
              "    }\n",
              "\n",
              "    [theme=dark] .colab-df-convert {\n",
              "      background-color: #3B4455;\n",
              "      fill: #D2E3FC;\n",
              "    }\n",
              "\n",
              "    [theme=dark] .colab-df-convert:hover {\n",
              "      background-color: #434B5C;\n",
              "      box-shadow: 0px 1px 3px 1px rgba(0, 0, 0, 0.15);\n",
              "      filter: drop-shadow(0px 1px 2px rgba(0, 0, 0, 0.3));\n",
              "      fill: #FFFFFF;\n",
              "    }\n",
              "  </style>\n",
              "\n",
              "    <script>\n",
              "      const buttonEl =\n",
              "        document.querySelector('#df-ba089c4c-19e2-4aba-88c6-52cca3f6e2dd button.colab-df-convert');\n",
              "      buttonEl.style.display =\n",
              "        google.colab.kernel.accessAllowed ? 'block' : 'none';\n",
              "\n",
              "      async function convertToInteractive(key) {\n",
              "        const element = document.querySelector('#df-ba089c4c-19e2-4aba-88c6-52cca3f6e2dd');\n",
              "        const dataTable =\n",
              "          await google.colab.kernel.invokeFunction('convertToInteractive',\n",
              "                                                    [key], {});\n",
              "        if (!dataTable) return;\n",
              "\n",
              "        const docLinkHtml = 'Like what you see? Visit the ' +\n",
              "          '<a target=\"_blank\" href=https://colab.research.google.com/notebooks/data_table.ipynb>data table notebook</a>'\n",
              "          + ' to learn more about interactive tables.';\n",
              "        element.innerHTML = '';\n",
              "        dataTable['output_type'] = 'display_data';\n",
              "        await google.colab.output.renderOutput(dataTable, element);\n",
              "        const docLink = document.createElement('div');\n",
              "        docLink.innerHTML = docLinkHtml;\n",
              "        element.appendChild(docLink);\n",
              "      }\n",
              "    </script>\n",
              "  </div>\n",
              "\n",
              "\n",
              "<div id=\"df-98e7204a-36b2-4f4f-84fc-e43ac5289314\">\n",
              "  <button class=\"colab-df-quickchart\" onclick=\"quickchart('df-98e7204a-36b2-4f4f-84fc-e43ac5289314')\"\n",
              "            title=\"Suggest charts.\"\n",
              "            style=\"display:none;\">\n",
              "\n",
              "<svg xmlns=\"http://www.w3.org/2000/svg\" height=\"24px\"viewBox=\"0 0 24 24\"\n",
              "     width=\"24px\">\n",
              "    <g>\n",
              "        <path d=\"M19 3H5c-1.1 0-2 .9-2 2v14c0 1.1.9 2 2 2h14c1.1 0 2-.9 2-2V5c0-1.1-.9-2-2-2zM9 17H7v-7h2v7zm4 0h-2V7h2v10zm4 0h-2v-4h2v4z\"/>\n",
              "    </g>\n",
              "</svg>\n",
              "  </button>\n",
              "\n",
              "<style>\n",
              "  .colab-df-quickchart {\n",
              "      --bg-color: #E8F0FE;\n",
              "      --fill-color: #1967D2;\n",
              "      --hover-bg-color: #E2EBFA;\n",
              "      --hover-fill-color: #174EA6;\n",
              "      --disabled-fill-color: #AAA;\n",
              "      --disabled-bg-color: #DDD;\n",
              "  }\n",
              "\n",
              "  [theme=dark] .colab-df-quickchart {\n",
              "      --bg-color: #3B4455;\n",
              "      --fill-color: #D2E3FC;\n",
              "      --hover-bg-color: #434B5C;\n",
              "      --hover-fill-color: #FFFFFF;\n",
              "      --disabled-bg-color: #3B4455;\n",
              "      --disabled-fill-color: #666;\n",
              "  }\n",
              "\n",
              "  .colab-df-quickchart {\n",
              "    background-color: var(--bg-color);\n",
              "    border: none;\n",
              "    border-radius: 50%;\n",
              "    cursor: pointer;\n",
              "    display: none;\n",
              "    fill: var(--fill-color);\n",
              "    height: 32px;\n",
              "    padding: 0;\n",
              "    width: 32px;\n",
              "  }\n",
              "\n",
              "  .colab-df-quickchart:hover {\n",
              "    background-color: var(--hover-bg-color);\n",
              "    box-shadow: 0 1px 2px rgba(60, 64, 67, 0.3), 0 1px 3px 1px rgba(60, 64, 67, 0.15);\n",
              "    fill: var(--button-hover-fill-color);\n",
              "  }\n",
              "\n",
              "  .colab-df-quickchart-complete:disabled,\n",
              "  .colab-df-quickchart-complete:disabled:hover {\n",
              "    background-color: var(--disabled-bg-color);\n",
              "    fill: var(--disabled-fill-color);\n",
              "    box-shadow: none;\n",
              "  }\n",
              "\n",
              "  .colab-df-spinner {\n",
              "    border: 2px solid var(--fill-color);\n",
              "    border-color: transparent;\n",
              "    border-bottom-color: var(--fill-color);\n",
              "    animation:\n",
              "      spin 1s steps(1) infinite;\n",
              "  }\n",
              "\n",
              "  @keyframes spin {\n",
              "    0% {\n",
              "      border-color: transparent;\n",
              "      border-bottom-color: var(--fill-color);\n",
              "      border-left-color: var(--fill-color);\n",
              "    }\n",
              "    20% {\n",
              "      border-color: transparent;\n",
              "      border-left-color: var(--fill-color);\n",
              "      border-top-color: var(--fill-color);\n",
              "    }\n",
              "    30% {\n",
              "      border-color: transparent;\n",
              "      border-left-color: var(--fill-color);\n",
              "      border-top-color: var(--fill-color);\n",
              "      border-right-color: var(--fill-color);\n",
              "    }\n",
              "    40% {\n",
              "      border-color: transparent;\n",
              "      border-right-color: var(--fill-color);\n",
              "      border-top-color: var(--fill-color);\n",
              "    }\n",
              "    60% {\n",
              "      border-color: transparent;\n",
              "      border-right-color: var(--fill-color);\n",
              "    }\n",
              "    80% {\n",
              "      border-color: transparent;\n",
              "      border-right-color: var(--fill-color);\n",
              "      border-bottom-color: var(--fill-color);\n",
              "    }\n",
              "    90% {\n",
              "      border-color: transparent;\n",
              "      border-bottom-color: var(--fill-color);\n",
              "    }\n",
              "  }\n",
              "</style>\n",
              "\n",
              "  <script>\n",
              "    async function quickchart(key) {\n",
              "      const quickchartButtonEl =\n",
              "        document.querySelector('#' + key + ' button');\n",
              "      quickchartButtonEl.disabled = true;  // To prevent multiple clicks.\n",
              "      quickchartButtonEl.classList.add('colab-df-spinner');\n",
              "      try {\n",
              "        const charts = await google.colab.kernel.invokeFunction(\n",
              "            'suggestCharts', [key], {});\n",
              "      } catch (error) {\n",
              "        console.error('Error during call to suggestCharts:', error);\n",
              "      }\n",
              "      quickchartButtonEl.classList.remove('colab-df-spinner');\n",
              "      quickchartButtonEl.classList.add('colab-df-quickchart-complete');\n",
              "    }\n",
              "    (() => {\n",
              "      let quickchartButtonEl =\n",
              "        document.querySelector('#df-98e7204a-36b2-4f4f-84fc-e43ac5289314 button');\n",
              "      quickchartButtonEl.style.display =\n",
              "        google.colab.kernel.accessAllowed ? 'block' : 'none';\n",
              "    })();\n",
              "  </script>\n",
              "</div>\n",
              "    </div>\n",
              "  </div>\n"
            ]
          },
          "metadata": {},
          "execution_count": 35
        }
      ]
    }
  ]
}